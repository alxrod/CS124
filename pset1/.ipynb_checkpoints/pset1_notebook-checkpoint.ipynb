{
 "cells": [
  {
   "cell_type": "code",
   "execution_count": 27,
   "id": "05ec797a",
   "metadata": {},
   "outputs": [],
   "source": [
    "import time\n",
    "import numpy as np\n",
    "import pandas as pd\n",
    "import matplotlib.pyplot as plt\n",
    "from numpy.linalg import matrix_power\n",
    "import math"
   ]
  },
  {
   "cell_type": "markdown",
   "id": "05c7e031",
   "metadata": {},
   "source": [
    "## Normal Fib Methods"
   ]
  },
  {
   "cell_type": "code",
   "execution_count": 7,
   "id": "5530628b",
   "metadata": {},
   "outputs": [],
   "source": [
    "def rec_fib(n):\n",
    "    if n == 0:\n",
    "        return 0\n",
    "    if n == 1:\n",
    "        return 1\n",
    "    return rec_fib(n-1) + rec_fib(n-2)"
   ]
  },
  {
   "cell_type": "code",
   "execution_count": 8,
   "id": "8d94a80e",
   "metadata": {},
   "outputs": [],
   "source": [
    "def it_fib(n):\n",
    "    A = [0,1]\n",
    "    for i in range(2,n+1):\n",
    "        A.append(A[i-1] + A[i-2])\n",
    "    return A[n]"
   ]
  },
  {
   "cell_type": "code",
   "execution_count": 62,
   "id": "ff4168bf",
   "metadata": {},
   "outputs": [],
   "source": [
    "def mat_mul(x,y):\n",
    "    return [\n",
    "        [x[0][0]*y[0][0] + x[0][1]*y[1][0], x[0][0]*y[0][1]+x[0][1]*y[1][1] ],\n",
    "        [x[1][0]*y[0][0] + x[1][1]*y[1][0], x[1][0]*y[0][1]+x[1][1]*y[1][1] ]\n",
    "    ]\n",
    "\n",
    "def mat_mul_uneven(x, y):\n",
    "    return [\n",
    "        [x[0][0]*y[0][0] + x[0][1]*y[1][0], x[0][0]*y[0][0]+x[0][1]*y[1][0] ],\n",
    "        [x[1][0]*y[0][0] + x[1][1]*y[1][0], x[1][0]*y[0][0]+x[1][1]*y[1][0] ]\n",
    "    ]"
   ]
  },
  {
   "cell_type": "code",
   "execution_count": 127,
   "id": "df3f10e4",
   "metadata": {},
   "outputs": [],
   "source": [
    "def mat_fib(n):\n",
    "    \n",
    "    start = [[1,1],[1,0]]\n",
    "    i = [[1,1],[1,0]]\n",
    "    initial = [[1],[0]]\n",
    "    \n",
    "    cache = {1: start}\n",
    "    counter = 2\n",
    "    \n",
    "    while counter < n:\n",
    "        i = mat_mul(i, i)\n",
    "        cache[counter] = i\n",
    "        counter = counter ** 2\n",
    "        \n",
    "    counter = math.sqrt(counter)\n",
    "        \n",
    "    t = len(list(cache.keys()))-2\n",
    "    keys = list(cache.keys())\n",
    "    while counter != n and t >= 0:\n",
    "        i = mat_mul(i,cache[keys[t]])\n",
    "        counter = counter + keys[t]\n",
    "        if (counter+keys[t]) >  n:\n",
    "            t = t-1\n",
    "\n",
    "    return mat_mul_uneven(i, initial)[0][0]"
   ]
  },
  {
   "cell_type": "markdown",
   "id": "cb0f73c6",
   "metadata": {},
   "source": [
    "## 1.A: Timer Trial"
   ]
  },
  {
   "cell_type": "code",
   "execution_count": 128,
   "id": "9ae90221",
   "metadata": {},
   "outputs": [],
   "source": [
    "lower_bound = 10**5\n",
    "upper_bound = 10**5*2\n",
    "step = 10**4\n",
    "vals = []\n",
    "# rec_times = []\n",
    "it_times = []\n",
    "mat_times = []\n",
    "\n",
    "# for i in range(lower_bound, upper_bound):\n",
    "#     start_time = time.time()\n",
    "#     val = rec_fib(i)\n",
    "#     elapsed = time.time() - start_time\n",
    "#     rec_times.append(elapsed)\n",
    "#     vals.append(val)\n",
    "    \n",
    "for i in range(lower_bound, upper_bound, step):\n",
    "    start_time = time.time()\n",
    "    val = it_fib(i)\n",
    "    elapsed = time.time() - start_time\n",
    "    it_times.append(elapsed)\n",
    "\n",
    "for i in range(lower_bound, upper_bound, step):\n",
    "    start_time = time.time()\n",
    "    val = mat_fib(i)\n",
    "    elapsed = time.time() - start_time\n",
    "    mat_times.append(elapsed)"
   ]
  },
  {
   "cell_type": "code",
   "execution_count": 129,
   "id": "e1b17d9b",
   "metadata": {},
   "outputs": [
    {
     "data": {
      "text/plain": [
       "10.0"
      ]
     },
     "execution_count": 129,
     "metadata": {},
     "output_type": "execute_result"
    }
   ],
   "source": [
    "(10**5*2-10**5)/(10**4)"
   ]
  },
  {
   "cell_type": "code",
   "execution_count": 130,
   "id": "8faca33e",
   "metadata": {},
   "outputs": [
    {
     "data": {
      "image/png": "[encoded data removed]",
      "text/plain": [
       "<Figure size 432x288 with 1 Axes>"
      ]
     },
     "metadata": {
      "needs_background": "light"
     },
     "output_type": "display_data"
    }
   ],
   "source": [
    "# df = pd.DataFrame({\"Recursive\": rec_times, \"Iterative\": it_times, \"Matrix\": mat_times})\n",
    "df = pd.DataFrame({\"Iterative\": it_times, \"Matrix\": mat_times})\n",
    "\n",
    "# plt.scatter(list(range(lower_bound,upper_bound)), rec_times, c=\"r\", label=\"Recursive\")\n",
    "plt.scatter(list(range(lower_bound,upper_bound, step)), it_times, c=\"b\", label=\"Iterative\")\n",
    "plt.scatter(list(range(lower_bound,upper_bound, step)), mat_times, c=\"g\", label=\"Matrix\")\n",
    "plt.legend(loc='upper left');\n",
    "plt.xlabel(\"Fib Term\")\n",
    "plt.ylabel(\"Seconds\")\n",
    "plt.show()\n"
   ]
  },
  {
   "cell_type": "code",
   "execution_count": 12,
   "id": "c9b54ff4",
   "metadata": {},
   "outputs": [
    {
     "data": {
      "text/html": [
       "<div>\n",
       "<style scoped>\n",
       "    .dataframe tbody tr th:only-of-type {\n",
       "        vertical-align: middle;\n",
       "    }\n",
       "\n",
       "    .dataframe tbody tr th {\n",
       "        vertical-align: top;\n",
       "    }\n",
       "\n",
       "    .dataframe thead th {\n",
       "        text-align: right;\n",
       "    }\n",
       "</style>\n",
       "<table border=\"1\" class=\"dataframe\">\n",
       "  <thead>\n",
       "    <tr style=\"text-align: right;\">\n",
       "      <th></th>\n",
       "      <th>Iterative</th>\n",
       "      <th>Matrix</th>\n",
       "    </tr>\n",
       "  </thead>\n",
       "  <tbody>\n",
       "    <tr>\n",
       "      <th>0</th>\n",
       "      <td>0.258703</td>\n",
       "      <td>0.000229</td>\n",
       "    </tr>\n",
       "    <tr>\n",
       "      <th>1</th>\n",
       "      <td>0.276629</td>\n",
       "      <td>0.000021</td>\n",
       "    </tr>\n",
       "    <tr>\n",
       "      <th>2</th>\n",
       "      <td>0.259574</td>\n",
       "      <td>0.000017</td>\n",
       "    </tr>\n",
       "    <tr>\n",
       "      <th>3</th>\n",
       "      <td>0.322940</td>\n",
       "      <td>0.000019</td>\n",
       "    </tr>\n",
       "    <tr>\n",
       "      <th>4</th>\n",
       "      <td>0.368162</td>\n",
       "      <td>0.000016</td>\n",
       "    </tr>\n",
       "    <tr>\n",
       "      <th>5</th>\n",
       "      <td>0.404566</td>\n",
       "      <td>0.000018</td>\n",
       "    </tr>\n",
       "    <tr>\n",
       "      <th>6</th>\n",
       "      <td>0.751438</td>\n",
       "      <td>0.000016</td>\n",
       "    </tr>\n",
       "    <tr>\n",
       "      <th>7</th>\n",
       "      <td>0.524619</td>\n",
       "      <td>0.000016</td>\n",
       "    </tr>\n",
       "    <tr>\n",
       "      <th>8</th>\n",
       "      <td>0.605611</td>\n",
       "      <td>0.000017</td>\n",
       "    </tr>\n",
       "    <tr>\n",
       "      <th>9</th>\n",
       "      <td>0.642243</td>\n",
       "      <td>0.000017</td>\n",
       "    </tr>\n",
       "  </tbody>\n",
       "</table>\n",
       "</div>"
      ],
      "text/plain": [
       "   Iterative    Matrix\n",
       "0   0.258703  0.000229\n",
       "1   0.276629  0.000021\n",
       "2   0.259574  0.000017\n",
       "3   0.322940  0.000019\n",
       "4   0.368162  0.000016\n",
       "5   0.404566  0.000018\n",
       "6   0.751438  0.000016\n",
       "7   0.524619  0.000016\n",
       "8   0.605611  0.000017\n",
       "9   0.642243  0.000017"
      ]
     },
     "execution_count": 12,
     "metadata": {},
     "output_type": "execute_result"
    }
   ],
   "source": [
    "df"
   ]
  },
  {
   "cell_type": "markdown",
   "id": "c28a642b",
   "metadata": {},
   "source": [
    "## 1.B First Term > 2 **31"
   ]
  },
  {
   "cell_type": "code",
   "execution_count": 17,
   "id": "7f54be2e",
   "metadata": {},
   "outputs": [
    {
     "name": "stdout",
     "output_type": "stream",
     "text": [
      "2971215073\n",
      "47\n"
     ]
    }
   ],
   "source": [
    "max_val = 2 ** 31\n",
    "cur_val = 0\n",
    "cur_term = 30\n",
    "while True:\n",
    "    cur_val = mat_fib(cur_term)\n",
    "    if cur_val > max_val:\n",
    "        break\n",
    "    else:\n",
    "        cur_term+=1\n",
    "        \n",
    "print(cur_val)\n",
    "print(cur_term)"
   ]
  },
  {
   "cell_type": "markdown",
   "id": "a0645d64",
   "metadata": {},
   "source": [
    "## 1.C Mod 2 ** 16 "
   ]
  },
  {
   "cell_type": "code",
   "execution_count": null,
   "id": "9e195f7d",
   "metadata": {},
   "outputs": [],
   "source": [
    "def rec_fib_mod(n):\n",
    "    if n == 0:\n",
    "        return 0\n",
    "    if n == 1:\n",
    "        return 1\n",
    "    return rec_fib(n-1) + rec_fib(n-2)"
   ]
  },
  {
   "cell_type": "code",
   "execution_count": 9,
   "id": "b1236619",
   "metadata": {},
   "outputs": [],
   "source": [
    "def it_fib_mod():\n",
    "    start_time = time.time()\n",
    "    A_0 = 0\n",
    "    A_1 = 1\n",
    "    i=2\n",
    "    while time.time() - start_time < 60:\n",
    "        temp_0 = A_1\n",
    "        A_1 = (A_0 + A_1) % (2**16)\n",
    "        A_0 = temp_0\n",
    "        i+=1\n",
    "    return {i, A_1}"
   ]
  },
  {
   "cell_type": "code",
   "execution_count": null,
   "id": "07276c97",
   "metadata": {},
   "outputs": [],
   "source": [
    "def mat_fib_mod(n):\n",
    "    store_matrices\n",
    "    i = np.array([[1,1],[1,0]])\n",
    "    initial = np.array([1,0])\n",
    "    new_i = matrix_power(i,n)\n",
    "    return np.matmul(new_i, initial)[1]"
   ]
  },
  {
   "cell_type": "code",
   "execution_count": 10,
   "id": "17ca0716",
   "metadata": {},
   "outputs": [
    {
     "data": {
      "text/plain": [
       "{52785, 464031818}"
      ]
     },
     "execution_count": 10,
     "metadata": {},
     "output_type": "execute_result"
    }
   ],
   "source": [
    "it_fib_mod()"
   ]
  },
  {
   "cell_type": "markdown",
   "id": "7d2ae3e7",
   "metadata": {},
   "source": [
    "## Guessing Recurrences "
   ]
  },
  {
   "cell_type": "code",
   "execution_count": 128,
   "id": "b0493f66",
   "metadata": {},
   "outputs": [],
   "source": [
    "import math\n",
    "vals = list(range(2,100))"
   ]
  },
  {
   "cell_type": "code",
   "execution_count": 125,
   "id": "9b702aa3",
   "metadata": {},
   "outputs": [
    {
     "data": {
      "text/plain": [
       "1901475900342344102245054807863"
      ]
     },
     "execution_count": 125,
     "metadata": {},
     "output_type": "execute_result"
    }
   ],
   "source": [
    "outs = [1]\n",
    "for i in vals:\n",
    "    outs.append( 2*outs[i-2] + 2*i -1 )\n",
    "outs.pop()"
   ]
  },
  {
   "cell_type": "code",
   "execution_count": 129,
   "id": "4fb74582",
   "metadata": {},
   "outputs": [
    {
     "data": {
      "text/plain": [
       "1901475900342344102245054807863"
      ]
     },
     "execution_count": 129,
     "metadata": {},
     "output_type": "execute_result"
    }
   ],
   "source": [
    "outs_guess = [1]\n",
    "for n in vals:\n",
    "#     124*( (n-1)/2) * (2+n) + 1\n",
    "    outs_guess.append( -2*i+ 3*(2**i) -3)\n",
    "    \n",
    "outs_guess.pop()"
   ]
  },
  {
   "cell_type": "code",
   "execution_count": 130,
   "id": "f0455d35",
   "metadata": {},
   "outputs": [
    {
     "data": {
      "image/png": "[encoded data removed]",
      "text/plain": [
       "<Figure size 432x288 with 1 Axes>"
      ]
     },
     "metadata": {
      "needs_background": "light"
     },
     "output_type": "display_data"
    }
   ],
   "source": [
    "plt.scatter(vals, outs)\n",
    "plt.scatter(vals, outs_guess)\n",
    "plt.show()"
   ]
  },
  {
   "cell_type": "code",
   "execution_count": 106,
   "id": "5f864b06",
   "metadata": {},
   "outputs": [
    {
     "data": {
      "text/plain": [
       "[1,\n",
       " 256,\n",
       " 576,\n",
       " 1024,\n",
       " 1600,\n",
       " 2304,\n",
       " 3136,\n",
       " 4096,\n",
       " 5184,\n",
       " 6400,\n",
       " 7744,\n",
       " 9216,\n",
       " 10816,\n",
       " 12544,\n",
       " 14400,\n",
       " 16384,\n",
       " 18496,\n",
       " 20736,\n",
       " 23104,\n",
       " 25600,\n",
       " 28224,\n",
       " 30976,\n",
       " 33856,\n",
       " 36864,\n",
       " 40000,\n",
       " 43264,\n",
       " 46656,\n",
       " 50176,\n",
       " 53824,\n",
       " 57600,\n",
       " 61504,\n",
       " 65536,\n",
       " 69696,\n",
       " 73984,\n",
       " 78400,\n",
       " 82944,\n",
       " 87616,\n",
       " 92416,\n",
       " 97344,\n",
       " 102400,\n",
       " 107584,\n",
       " 112896,\n",
       " 118336,\n",
       " 123904,\n",
       " 129600,\n",
       " 135424,\n",
       " 141376,\n",
       " 147456,\n",
       " 153664,\n",
       " 160000,\n",
       " 166464,\n",
       " 173056,\n",
       " 179776,\n",
       " 186624,\n",
       " 193600,\n",
       " 200704,\n",
       " 207936,\n",
       " 215296,\n",
       " 222784,\n",
       " 230400,\n",
       " 238144,\n",
       " 246016,\n",
       " 254016,\n",
       " 262144,\n",
       " 270400,\n",
       " 278784,\n",
       " 287296,\n",
       " 295936,\n",
       " 304704,\n",
       " 313600,\n",
       " 322624,\n",
       " 331776,\n",
       " 341056,\n",
       " 350464,\n",
       " 360000,\n",
       " 369664,\n",
       " 379456,\n",
       " 389376,\n",
       " 399424,\n",
       " 409600,\n",
       " 419904,\n",
       " 430336,\n",
       " 440896,\n",
       " 451584,\n",
       " 462400,\n",
       " 473344,\n",
       " 484416,\n",
       " 495616,\n",
       " 506944,\n",
       " 518400,\n",
       " 529984,\n",
       " 541696,\n",
       " 553536,\n",
       " 565504,\n",
       " 577600,\n",
       " 589824,\n",
       " 602176,\n",
       " 614656]"
      ]
     },
     "execution_count": 106,
     "metadata": {},
     "output_type": "execute_result"
    }
   ],
   "source": [
    "outs_guess"
   ]
  },
  {
   "cell_type": "code",
   "execution_count": null,
   "id": "2bb9f75e",
   "metadata": {},
   "outputs": [],
   "source": []
  }
 ],
 "metadata": {
  "kernelspec": {
   "display_name": "Python 3 (ipykernel)",
   "language": "python",
   "name": "python3"
  },
  "language_info": {
   "codemirror_mode": {
    "name": "ipython",
    "version": 3
   },
   "file_extension": ".py",
   "mimetype": "text/x-python",
   "name": "python",
   "nbconvert_exporter": "python",
   "pygments_lexer": "ipython3",
   "version": "3.9.7"
  }
 },
 "nbformat": 4,
 "nbformat_minor": 5
}
